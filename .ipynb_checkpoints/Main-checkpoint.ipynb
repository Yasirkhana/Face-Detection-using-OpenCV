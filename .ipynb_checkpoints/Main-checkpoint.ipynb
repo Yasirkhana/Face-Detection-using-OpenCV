{
 "cells": [
  {
   "cell_type": "markdown",
   "id": "31305c34",
   "metadata": {},
   "source": [
    "# <center> FACE DETECTION USING OPENCV <center>"
   ]
  },
  {
   "cell_type": "markdown",
   "id": "c1859858",
   "metadata": {},
   "source": [
    "#### Importing Libraries"
   ]
  },
  {
   "cell_type": "code",
   "execution_count": 1,
   "id": "1f202c0f",
   "metadata": {},
   "outputs": [],
   "source": [
    "import cv2"
   ]
  },
  {
   "cell_type": "markdown",
   "id": "e9be3579",
   "metadata": {},
   "source": [
    "#### Reading Cascade file"
   ]
  },
  {
   "cell_type": "code",
   "execution_count": 2,
   "id": "64b747fa",
   "metadata": {},
   "outputs": [],
   "source": [
    "face_cascade = cv2.CascadeClassifier(cv2.data.haarcascades + 'haarcascade_frontalface_default.xml')\n",
    "# This will create cascade classifier object."
   ]
  },
  {
   "cell_type": "markdown",
   "id": "d78c1c83",
   "metadata": {},
   "source": [
    "#### Now we can use this cascade object to identify face in our image"
   ]
  },
  {
   "cell_type": "markdown",
   "id": "3ce3a2c9",
   "metadata": {},
   "source": [
    "#### Now loading the Image"
   ]
  },
  {
   "cell_type": "code",
   "execution_count": 3,
   "id": "694100bb",
   "metadata": {},
   "outputs": [],
   "source": [
    "img = cv2.imread(\"Photo.png\")"
   ]
  },
  {
   "cell_type": "markdown",
   "id": "0902edd3",
   "metadata": {},
   "source": [
    "#### Note: Grayscale Image is good for searching for face in image\n",
    "    "
   ]
  },
  {
   "cell_type": "code",
   "execution_count": 4,
   "id": "c4733668",
   "metadata": {},
   "outputs": [],
   "source": [
    "gray_img = cv2.cvtColor(img,cv2.COLOR_BGR2GRAY)"
   ]
  },
  {
   "cell_type": "code",
   "execution_count": 5,
   "id": "4c554665",
   "metadata": {},
   "outputs": [
    {
     "data": {
      "text/plain": [
       "-1"
      ]
     },
     "execution_count": 5,
     "metadata": {},
     "output_type": "execute_result"
    }
   ],
   "source": [
    "cv2.imshow(\"Gray_Image\",gray_img)\n",
    "cv2.waitKey(0)"
   ]
  },
  {
   "cell_type": "markdown",
   "id": "cc4e416c",
   "metadata": {},
   "source": [
    "##### Saving th output image in new file"
   ]
  },
  {
   "cell_type": "code",
   "execution_count": 6,
   "id": "290b0f3d",
   "metadata": {},
   "outputs": [
    {
     "data": {
      "text/plain": [
       "True"
      ]
     },
     "execution_count": 6,
     "metadata": {},
     "output_type": "execute_result"
    }
   ],
   "source": [
    "cv2.imwrite(\"Gray_Image.jpg\",gray_img)"
   ]
  },
  {
   "cell_type": "markdown",
   "id": "db22e479",
   "metadata": {},
   "source": [
    "## [PUT GRAYSCAL IMG HERE <-]"
   ]
  },
  {
   "cell_type": "code",
   "execution_count": 8,
   "id": "05ece452",
   "metadata": {},
   "outputs": [],
   "source": [
    "faces = face_cascade.detectMultiScale(gray_img,scaleFactor = 1.05,minNeighbors=5) "
   ]
  },
  {
   "cell_type": "code",
   "execution_count": 12,
   "id": "baceb8f8",
   "metadata": {},
   "outputs": [
    {
     "name": "stdout",
     "output_type": "stream",
     "text": [
      "[[74 51 95 95]]\n",
      "<class 'numpy.ndarray'>\n"
     ]
    }
   ],
   "source": [
    "print(faces)\n",
    "print(type(faces))"
   ]
  },
  {
   "cell_type": "markdown",
   "id": "69a5af1c",
   "metadata": {},
   "source": [
    "#### Now, drawing Green rectangle on the Image to point out the face"
   ]
  },
  {
   "cell_type": "code",
   "execution_count": 13,
   "id": "30ad6895",
   "metadata": {},
   "outputs": [],
   "source": [
    "for x,y,w,h in faces:\n",
    "    img =cv2.rectangle(img,(x,y),(x+w,y+h),(0,255,0),3)"
   ]
  },
  {
   "cell_type": "code",
   "execution_count": 16,
   "id": "1a427489",
   "metadata": {},
   "outputs": [
    {
     "data": {
      "text/plain": [
       "-1"
      ]
     },
     "execution_count": 16,
     "metadata": {},
     "output_type": "execute_result"
    }
   ],
   "source": [
    "cv2.imshow(\"Face\",img)\n",
    "cv2.waitKey(0)"
   ]
  },
  {
   "cell_type": "markdown",
   "id": "faa15e28",
   "metadata": {},
   "source": [
    "##### Saving the outout image in a new file"
   ]
  },
  {
   "cell_type": "code",
   "execution_count": 15,
   "id": "a6461e62",
   "metadata": {},
   "outputs": [
    {
     "data": {
      "text/plain": [
       "True"
      ]
     },
     "execution_count": 15,
     "metadata": {},
     "output_type": "execute_result"
    }
   ],
   "source": [
    "cv2.imwrite(\"Face_detected.jpg\",img)"
   ]
  },
  {
   "cell_type": "markdown",
   "id": "9423a427",
   "metadata": {},
   "source": [
    "#### [ -> PUT FACE_DECTED IMAGE HERE <- ]"
   ]
  },
  {
   "cell_type": "code",
   "execution_count": null,
   "id": "253496bb",
   "metadata": {},
   "outputs": [],
   "source": []
  }
 ],
 "metadata": {
  "kernelspec": {
   "display_name": "Python 3",
   "language": "python",
   "name": "python3"
  },
  "language_info": {
   "codemirror_mode": {
    "name": "ipython",
    "version": 3
   },
   "file_extension": ".py",
   "mimetype": "text/x-python",
   "name": "python",
   "nbconvert_exporter": "python",
   "pygments_lexer": "ipython3",
   "version": "3.8.8"
  }
 },
 "nbformat": 4,
 "nbformat_minor": 5
}
