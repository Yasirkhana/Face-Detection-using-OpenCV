{
 "cells": [
  {
   "cell_type": "markdown",
   "id": "851db932",
   "metadata": {},
   "source": [
    "# <center> FACE DETECTION USING OPENCV <center>"
   ]
  },
  {
   "cell_type": "markdown",
   "id": "e22dd969",
   "metadata": {},
   "source": [
    "#### Importing Libraries"
   ]
  },
  {
   "cell_type": "code",
   "execution_count": 1,
   "id": "c8c732ee",
   "metadata": {},
   "outputs": [],
   "source": [
    "import cv2"
   ]
  },
  {
   "cell_type": "markdown",
   "id": "4c75aa0a",
   "metadata": {},
   "source": [
    "#### Reading Cascade file"
   ]
  },
  {
   "cell_type": "code",
   "execution_count": 3,
   "id": "fb9af00e",
   "metadata": {},
   "outputs": [],
   "source": [
    "face_cascade = cv2.CascadeClassifier(\"haarcascade_frontalface_deafault.xml\") # This will create cascade classifier object."
   ]
  },
  {
   "cell_type": "code",
   "execution_count": null,
   "id": "a7cb6102",
   "metadata": {},
   "outputs": [],
   "source": [
    "Now we can "
   ]
  }
 ],
 "metadata": {
  "kernelspec": {
   "display_name": "Python 3",
   "language": "python",
   "name": "python3"
  },
  "language_info": {
   "codemirror_mode": {
    "name": "ipython",
    "version": 3
   },
   "file_extension": ".py",
   "mimetype": "text/x-python",
   "name": "python",
   "nbconvert_exporter": "python",
   "pygments_lexer": "ipython3",
   "version": "3.8.8"
  }
 },
 "nbformat": 4,
 "nbformat_minor": 5
}
