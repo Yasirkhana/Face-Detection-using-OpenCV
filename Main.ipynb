{
 "cells": [
  {
   "cell_type": "markdown",
   "id": "5cf9a2bf",
   "metadata": {},
   "source": [
    "# <center> FACE DETECTION USING OPENCV <center>"
   ]
  },
  {
   "cell_type": "markdown",
   "id": "9e8ff55c",
   "metadata": {},
   "source": [
    "#### Importing Libraries"
   ]
  },
  {
   "cell_type": "code",
   "execution_count": null,
   "id": "15dc279c",
   "metadata": {},
   "outputs": [],
   "source": []
  }
 ],
 "metadata": {
  "kernelspec": {
   "display_name": "Python 3",
   "language": "python",
   "name": "python3"
  },
  "language_info": {
   "codemirror_mode": {
    "name": "ipython",
    "version": 3
   },
   "file_extension": ".py",
   "mimetype": "text/x-python",
   "name": "python",
   "nbconvert_exporter": "python",
   "pygments_lexer": "ipython3",
   "version": "3.8.8"
  }
 },
 "nbformat": 4,
 "nbformat_minor": 5
}
