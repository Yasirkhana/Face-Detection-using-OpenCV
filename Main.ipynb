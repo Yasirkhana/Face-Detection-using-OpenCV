{
 "cells": [
  {
   "cell_type": "markdown",
   "id": "09408fb7",
   "metadata": {},
   "source": [
    "# <center> FACE DETECTION USING OPENCV <center>"
   ]
  },
  {
   "cell_type": "markdown",
   "id": "257c1875",
   "metadata": {},
   "source": [
    "#### Importing Libraries"
   ]
  },
  {
   "cell_type": "code",
   "execution_count": 1,
   "id": "fb3ff25c",
   "metadata": {},
   "outputs": [],
   "source": [
    "import cv2"
   ]
  },
  {
   "cell_type": "markdown",
   "id": "bace88ff",
   "metadata": {},
   "source": [
    "#### Reading Cascade file"
   ]
  },
  {
   "cell_type": "code",
   "execution_count": 2,
   "id": "e3267c7b",
   "metadata": {},
   "outputs": [],
   "source": [
    "face_cascade = cv2.CascadeClassifier(cv2.data.haarcascades + 'haarcascade_frontalface_default.xml')\n",
    "# This will create cascade classifier object."
   ]
  },
  {
   "cell_type": "markdown",
   "id": "01e550f5",
   "metadata": {},
   "source": [
    "#### Now we can use this cascade object to identify face in our image"
   ]
  },
  {
   "cell_type": "markdown",
   "id": "742b0700",
   "metadata": {},
   "source": [
    "#### Now loading the Image"
   ]
  },
  {
   "cell_type": "code",
   "execution_count": 3,
   "id": "a6d9732e",
   "metadata": {},
   "outputs": [],
   "source": [
    "img = cv2.imread(\"Photo.png\")"
   ]
  },
  {
   "cell_type": "markdown",
   "id": "e4742afc",
   "metadata": {},
   "source": [
    "#### Note: Grayscale Image is good for searching for face in image\n",
    "    "
   ]
  },
  {
   "cell_type": "code",
   "execution_count": 4,
   "id": "8d581064",
   "metadata": {},
   "outputs": [],
   "source": [
    "gray_img = cv2.cvtColor(img,cv2.COLOR_BGR2GRAY)"
   ]
  },
  {
   "cell_type": "code",
   "execution_count": 5,
   "id": "b92e5273",
   "metadata": {},
   "outputs": [
    {
     "data": {
      "text/plain": [
       "-1"
      ]
     },
     "execution_count": 5,
     "metadata": {},
     "output_type": "execute_result"
    }
   ],
   "source": [
    "cv2.imshow(\"Gray_Image\",gray_img)\n",
    "cv2.waitKey(0)"
   ]
  },
  {
   "cell_type": "markdown",
   "id": "50d2c30f",
   "metadata": {},
   "source": [
    "##### Saving th output image in new file"
   ]
  },
  {
   "cell_type": "code",
   "execution_count": 6,
   "id": "cc759fa5",
   "metadata": {},
   "outputs": [
    {
     "data": {
      "text/plain": [
       "True"
      ]
     },
     "execution_count": 6,
     "metadata": {},
     "output_type": "execute_result"
    }
   ],
   "source": [
    "cv2.imwrite(\"Gray_Image.jpg\",gray_img)"
   ]
  },
  {
   "cell_type": "markdown",
   "id": "118edbf1",
   "metadata": {},
   "source": [
    "## [PUT GRAYSCAL IMG HERE <-]"
   ]
  },
  {
   "cell_type": "code",
   "execution_count": 8,
   "id": "dab57f21",
   "metadata": {},
   "outputs": [],
   "source": [
    "faces = face_cascade.detectMultiScale(gray_img,scaleFactor = 1.05,minNeighbors=5) "
   ]
  },
  {
   "cell_type": "code",
   "execution_count": 12,
   "id": "23176a3e",
   "metadata": {},
   "outputs": [
    {
     "name": "stdout",
     "output_type": "stream",
     "text": [
      "[[74 51 95 95]]\n",
      "<class 'numpy.ndarray'>\n"
     ]
    }
   ],
   "source": [
    "print(faces)\n",
    "print(type(faces))\n"
   ]
  },
  {
   "cell_type": "code",
   "execution_count": 9,
   "id": "69d5d20c",
   "metadata": {},
   "outputs": [
    {
     "name": "stdout",
     "output_type": "stream",
     "text": [
      "<class 'numpy.ndarray'>\n"
     ]
    }
   ],
   "source": [
    "for x,y,w,h in faces:\n",
    "    img =cv2.rectangle(img,(x,y),(x+w,y+h),(0,255,0),3)"
   ]
  },
  {
   "cell_type": "code",
   "execution_count": null,
   "id": "e8f3fb0b",
   "metadata": {},
   "outputs": [],
   "source": []
  }
 ],
 "metadata": {
  "kernelspec": {
   "display_name": "Python 3",
   "language": "python",
   "name": "python3"
  },
  "language_info": {
   "codemirror_mode": {
    "name": "ipython",
    "version": 3
   },
   "file_extension": ".py",
   "mimetype": "text/x-python",
   "name": "python",
   "nbconvert_exporter": "python",
   "pygments_lexer": "ipython3",
   "version": "3.8.8"
  }
 },
 "nbformat": 4,
 "nbformat_minor": 5
}
