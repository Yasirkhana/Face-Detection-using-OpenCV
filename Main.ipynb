{
 "cells": [
  {
   "cell_type": "markdown",
   "id": "6daee55e",
   "metadata": {},
   "source": [
    "# <center> FACE DETECTION USING OPENCV <center>"
   ]
  },
  {
   "cell_type": "markdown",
   "id": "69e6663c",
   "metadata": {},
   "source": [
    "#### Importing Libraries"
   ]
  },
  {
   "cell_type": "code",
   "execution_count": 1,
   "id": "dd2ca058",
   "metadata": {},
   "outputs": [],
   "source": [
    "import cv2"
   ]
  },
  {
   "cell_type": "markdown",
   "id": "1662f66e",
   "metadata": {},
   "source": [
    "#### Reading Cascade file"
   ]
  },
  {
   "cell_type": "code",
   "execution_count": 2,
   "id": "f46c8648",
   "metadata": {},
   "outputs": [],
   "source": [
    "face_cascade = cv2.CascadeClassifier(\"haarcascade_frontalface_deafault.xml\") # This will create cascade classifier object."
   ]
  },
  {
   "cell_type": "markdown",
   "id": "9ce01f8d",
   "metadata": {},
   "source": [
    "#### Now we can use this cascade object to identify face in our image"
   ]
  },
  {
   "cell_type": "markdown",
   "id": "f5340aad",
   "metadata": {},
   "source": [
    "#### Now loading the Image"
   ]
  },
  {
   "cell_type": "code",
   "execution_count": 3,
   "id": "39c27428",
   "metadata": {},
   "outputs": [],
   "source": [
    "img = cv2.imread(\"Photo.png\")"
   ]
  },
  {
   "cell_type": "markdown",
   "id": "af0c11d6",
   "metadata": {},
   "source": [
    "#### Note: Grayscale Image is good for searching for face in image\n",
    "    "
   ]
  },
  {
   "cell_type": "code",
   "execution_count": 7,
   "id": "af96f11e",
   "metadata": {},
   "outputs": [],
   "source": [
    "gray_img = cv2.cvtColor(img,cv2.COLOR_BGR2GRAY)"
   ]
  },
  {
   "cell_type": "code",
   "execution_count": 9,
   "id": "13f332ab",
   "metadata": {},
   "outputs": [
    {
     "data": {
      "text/plain": [
       "-1"
      ]
     },
     "execution_count": 9,
     "metadata": {},
     "output_type": "execute_result"
    }
   ],
   "source": [
    "cv2.imshow(\"Gray_Image\",gray_img)\n",
    "cv2.waitKey(0)"
   ]
  },
  {
   "cell_type": "markdown",
   "id": "74ddb5e6",
   "metadata": {},
   "source": [
    "##### Saving th output image in new file"
   ]
  },
  {
   "cell_type": "code",
   "execution_count": 13,
   "id": "844db57b",
   "metadata": {},
   "outputs": [
    {
     "data": {
      "text/plain": [
       "True"
      ]
     },
     "execution_count": 13,
     "metadata": {},
     "output_type": "execute_result"
    }
   ],
   "source": [
    "cv2.imwrite(\"Gray_Image.jpg\",gray_img)"
   ]
  },
  {
   "cell_type": "markdown",
   "id": "c08097c9",
   "metadata": {},
   "source": [
    "## [PUT GRAYSCAL IMG HERE <-]"
   ]
  },
  {
   "cell_type": "code",
   "execution_count": null,
   "id": "0420e9dd",
   "metadata": {},
   "outputs": [],
   "source": []
  }
 ],
 "metadata": {
  "kernelspec": {
   "display_name": "Python 3",
   "language": "python",
   "name": "python3"
  },
  "language_info": {
   "codemirror_mode": {
    "name": "ipython",
    "version": 3
   },
   "file_extension": ".py",
   "mimetype": "text/x-python",
   "name": "python",
   "nbconvert_exporter": "python",
   "pygments_lexer": "ipython3",
   "version": "3.8.8"
  }
 },
 "nbformat": 4,
 "nbformat_minor": 5
}
